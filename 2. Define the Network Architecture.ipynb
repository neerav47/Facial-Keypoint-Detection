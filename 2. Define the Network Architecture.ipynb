{
 "cells": [
  {
   "cell_type": "markdown",
   "metadata": {},
   "source": [
    "## Define the Convolutional Neural Network\n",
    "\n",
    "After you've looked at the data you're working with and, in this case, know the shapes of the images and of the keypoints, you are ready to define a convolutional neural network that can *learn* from this data.\n",
    "\n",
    "In this notebook and in `models.py`, you will:\n",
    "1. Define a CNN with images as input and keypoints as output\n",
    "2. Construct the transformed FaceKeypointsDataset, just as before\n",
    "3. Train the CNN on the training data, tracking loss\n",
    "4. See how the trained model performs on test data\n",
    "5. If necessary, modify the CNN structure and model hyperparameters, so that it performs *well* **\\***\n",
    "\n",
    "**\\*** What does *well* mean?\n",
    "\n",
    "\"Well\" means that the model's loss decreases during training **and**, when applied to test image data, the model produces keypoints that closely match the true keypoints of each face. And you'll see examples of this later in the notebook.\n",
    "\n",
    "---\n"
   ]
  },
  {
   "cell_type": "markdown",
   "metadata": {},
   "source": [
    "## CNN Architecture\n",
    "\n",
    "Recall that CNN's are defined by a few types of layers:\n",
    "* Convolutional layers\n",
    "* Maxpooling layers\n",
    "* Fully-connected layers\n",
    "\n",
    "You are required to use the above layers and encouraged to add multiple convolutional layers and things like dropout layers that may prevent overfitting. You are also encouraged to look at literature on keypoint detection, such as [this paper](https://arxiv.org/pdf/1710.00977.pdf), to help you determine the structure of your network.\n",
    "\n",
    "\n",
    "### TODO: Define your model in the provided file `models.py` file\n",
    "\n",
    "This file is mostly empty but contains the expected name and some TODO's for creating your model.\n",
    "\n",
    "---"
   ]
  },
  {
   "cell_type": "markdown",
   "metadata": {},
   "source": [
    "## PyTorch Neural Nets\n",
    "\n",
    "To define a neural network in PyTorch, you define the layers of a model in the function `__init__` and define the feedforward behavior of a network that employs those initialized layers in the function `forward`, which takes in an input image tensor, `x`. The structure of this Net class is shown below and left for you to fill in.\n",
    "\n",
    "Note: During training, PyTorch will be able to perform backpropagation by keeping track of the network's feedforward behavior and using autograd to calculate the update to the weights in the network.\n",
    "\n",
    "#### Define the Layers in ` __init__`\n",
    "As a reminder, a conv/pool layer may be defined like this (in `__init__`):\n",
    "```\n",
    "# 1 input image channel (for grayscale images), 32 output channels/feature maps, 3x3 square convolution kernel\n",
    "self.conv1 = nn.Conv2d(1, 32, 3)\n",
    "\n",
    "# maxpool that uses a square window of kernel_size=2, stride=2\n",
    "self.pool = nn.MaxPool2d(2, 2)      \n",
    "```\n",
    "\n",
    "#### Refer to Layers in `forward`\n",
    "Then referred to in the `forward` function like this, in which the conv1 layer has a ReLu activation applied to it before maxpooling is applied:\n",
    "```\n",
    "x = self.pool(F.relu(self.conv1(x)))\n",
    "```\n",
    "\n",
    "Best practice is to place any layers whose weights will change during the training process in `__init__` and refer to them in the `forward` function; any layers or functions that always behave in the same way, such as a pre-defined activation function, should appear *only* in the `forward` function."
   ]
  },
  {
   "cell_type": "markdown",
   "metadata": {},
   "source": [
    "#### Why models.py\n",
    "\n",
    "You are tasked with defining the network in the `models.py` file so that any models you define can be saved and loaded by name in different notebooks in this project directory. For example, by defining a CNN class called `Net` in `models.py`, you can then create that same architecture in this and other notebooks by simply importing the class and instantiating a model:\n",
    "```\n",
    "    from models import Net\n",
    "    net = Net()\n",
    "```"
   ]
  },
  {
   "cell_type": "code",
   "execution_count": 1,
   "metadata": {},
   "outputs": [
    {
     "name": "stdout",
     "output_type": "stream",
     "text": [
      "mkdir: cannot create directory ‘/data’: File exists\n",
      "--2019-01-06 01:55:44--  https://s3.amazonaws.com/video.udacity-data.com/topher/2018/May/5aea1b91_train-test-data/train-test-data.zip\n",
      "Resolving s3.amazonaws.com (s3.amazonaws.com)... 52.216.238.5\n",
      "Connecting to s3.amazonaws.com (s3.amazonaws.com)|52.216.238.5|:443... connected.\n",
      "HTTP request sent, awaiting response... 200 OK\n",
      "Length: 338613624 (323M) [application/zip]\n",
      "Saving to: ‘/data/train-test-data.zip.2’\n",
      "\n",
      "train-test-data.zip 100%[===================>] 322.93M  23.5MB/s    in 17s     \n",
      "\n",
      "2019-01-06 01:56:01 (19.3 MB/s) - ‘/data/train-test-data.zip.2’ saved [338613624/338613624]\n",
      "\n",
      "Archive:  /data/train-test-data.zip\n"
     ]
    }
   ],
   "source": [
    "# load the data if you need to; if you have already loaded the data, you may comment this cell out\n",
    "# -- DO NOT CHANGE THIS CELL -- #\n",
    "!mkdir /data\n",
    "!wget -P /data/ https://s3.amazonaws.com/video.udacity-data.com/topher/2018/May/5aea1b91_train-test-data/train-test-data.zip\n",
    "!unzip -n /data/train-test-data.zip -d /data"
   ]
  },
  {
   "cell_type": "markdown",
   "metadata": {},
   "source": [
    "<div class=\"alert alert-info\">**Note:** Workspaces automatically close connections after 30 minutes of inactivity (including inactivity while training!). Use the code snippet below to keep your workspace alive during training. (The active_session context manager is imported below.)\n",
    "</div>\n",
    "```\n",
    "from workspace_utils import active_session\n",
    "\n",
    "with active_session():\n",
    "    train_model(num_epochs)\n",
    "```\n"
   ]
  },
  {
   "cell_type": "code",
   "execution_count": 2,
   "metadata": {},
   "outputs": [],
   "source": [
    "# import the usual resources\n",
    "import matplotlib.pyplot as plt\n",
    "import numpy as np\n",
    "\n",
    "# import utilities to keep workspaces alive during model training\n",
    "from workspace_utils import active_session\n",
    "\n",
    "# watch for any changes in model.py, if it changes, re-load it automatically\n",
    "%load_ext autoreload\n",
    "%autoreload 2"
   ]
  },
  {
   "cell_type": "code",
   "execution_count": 3,
   "metadata": {},
   "outputs": [
    {
     "name": "stdout",
     "output_type": "stream",
     "text": [
      "Net(\n",
      "  (conv1): Conv2d(1, 32, kernel_size=(4, 4), stride=(1, 1))\n",
      "  (conv2): Conv2d(32, 64, kernel_size=(3, 3), stride=(1, 1))\n",
      "  (conv3): Conv2d(64, 128, kernel_size=(2, 2), stride=(1, 1))\n",
      "  (conv4): Conv2d(128, 256, kernel_size=(1, 1), stride=(1, 1))\n",
      "  (maxpool1): MaxPool2d(kernel_size=4, stride=4, padding=0, dilation=1, ceil_mode=False)\n",
      "  (maxpool2): MaxPool2d(kernel_size=2, stride=2, padding=0, dilation=1, ceil_mode=False)\n",
      "  (fc1): Linear(in_features=9216, out_features=1000, bias=True)\n",
      "  (fc2): Linear(in_features=1000, out_features=1000, bias=True)\n",
      "  (fc3): Linear(in_features=1000, out_features=136, bias=True)\n",
      "  (dropout1): Dropout(p=0.1)\n",
      "  (dropout2): Dropout(p=0.2)\n",
      "  (dropout3): Dropout(p=0.3)\n",
      "  (dropout4): Dropout(p=0.4)\n",
      "  (dropout5): Dropout(p=0.5)\n",
      "  (dropout6): Dropout(p=0.6)\n",
      ")\n"
     ]
    },
    {
     "name": "stderr",
     "output_type": "stream",
     "text": [
      "/home/workspace/models.py:50: UserWarning: nn.init.uniform is now deprecated in favor of nn.init.uniform_.\n",
      "  module.weight = nn.init.uniform(module.weight, a = 0, b = 1)\n",
      "/home/workspace/models.py:52: UserWarning: nn.init.xavier_uniform is now deprecated in favor of nn.init.xavier_uniform_.\n",
      "  module.weight = nn.init.xavier_uniform(module.weight, gain = 1)\n"
     ]
    }
   ],
   "source": [
    "## TODO: Define the Net in models.py\n",
    "\n",
    "import torch\n",
    "import torch.nn as nn\n",
    "import torch.nn.functional as F\n",
    "from torch.autograd import Variable\n",
    "\n",
    "## TODO: Once you've define the network, you can instantiate it\n",
    "# one example conv layer has been provided for you\n",
    "from models import Net\n",
    "\n",
    "net = Net()\n",
    "print(net)"
   ]
  },
  {
   "cell_type": "markdown",
   "metadata": {
    "collapsed": true
   },
   "source": [
    "## Transform the dataset \n",
    "\n",
    "To prepare for training, create a transformed dataset of images and keypoints.\n",
    "\n",
    "### TODO: Define a data transform\n",
    "\n",
    "In PyTorch, a convolutional neural network expects a torch image of a consistent size as input. For efficient training, and so your model's loss does not blow up during training, it is also suggested that you normalize the input images and keypoints. The necessary transforms have been defined in `data_load.py` and you **do not** need to modify these; take a look at this file (you'll see the same transforms that were defined and applied in Notebook 1).\n",
    "\n",
    "To define the data transform below, use a [composition](http://pytorch.org/tutorials/beginner/data_loading_tutorial.html#compose-transforms) of:\n",
    "1. Rescaling and/or cropping the data, such that you are left with a square image (the suggested size is 224x224px)\n",
    "2. Normalizing the images and keypoints; turning each RGB image into a grayscale image with a color range of [0, 1] and transforming the given keypoints into a range of [-1, 1]\n",
    "3. Turning these images and keypoints into Tensors\n",
    "\n",
    "These transformations have been defined in `data_load.py`, but it's up to you to call them and create a `data_transform` below. **This transform will be applied to the training data and, later, the test data**. It will change how you go about displaying these images and keypoints, but these steps are essential for efficient training.\n",
    "\n",
    "As a note, should you want to perform data augmentation (which is optional in this project), and randomly rotate or shift these images, a square image size will be useful; rotating a 224x224 image by 90 degrees will result in the same shape of output."
   ]
  },
  {
   "cell_type": "code",
   "execution_count": 4,
   "metadata": {},
   "outputs": [],
   "source": [
    "from torch.utils.data import Dataset, DataLoader\n",
    "from torchvision import transforms, utils\n",
    "\n",
    "# the dataset we created in Notebook 1 is copied in the helper file `data_load.py`\n",
    "from data_load import FacialKeypointsDataset\n",
    "# the transforms we defined in Notebook 1 are in the helper file `data_load.py`\n",
    "from data_load import Rescale, RandomCrop, Normalize, ToTensor\n",
    "\n",
    "\n",
    "## TODO: define the data_transform using transforms.Compose([all tx's, . , .])\n",
    "# order matters! i.e. rescaling should come before a smaller crop\n",
    "\n",
    "data_transform = transforms.Compose([Rescale(250),\n",
    "                                     RandomCrop(224),\n",
    "                                     Normalize(),\n",
    "                                     ToTensor()])\n",
    "\n",
    "\n",
    "#train_data_transform = transforms.Compose([Rescale((250, 250)), \\\n",
    "#                                           RandomCrop((227, 227)), \\\n",
    "#                                           Normalize(), \\\n",
    "#                                           ToTensor()])\n",
    "#test_data_transform = transforms.Compose([Rescale((227, 227)), \\\n",
    "#                                         Normalize(), \\\n",
    "#                                         ToTensor()])\n",
    "\n",
    "# testing that you've defined a transform\n",
    "assert(data_transform is not None), 'Define a data_transform'"
   ]
  },
  {
   "cell_type": "code",
   "execution_count": 5,
   "metadata": {},
   "outputs": [
    {
     "name": "stdout",
     "output_type": "stream",
     "text": [
      "Number of images:  3462\n",
      "0 torch.Size([1, 224, 224]) torch.Size([68, 2])\n",
      "1 torch.Size([1, 224, 224]) torch.Size([68, 2])\n",
      "2 torch.Size([1, 224, 224]) torch.Size([68, 2])\n",
      "3 torch.Size([1, 224, 224]) torch.Size([68, 2])\n"
     ]
    }
   ],
   "source": [
    "# create the transformed dataset\n",
    "transformed_dataset = FacialKeypointsDataset(csv_file='/data/training_frames_keypoints.csv',\n",
    "                                             root_dir='/data/training/',\n",
    "                                             transform=data_transform)\n",
    "\n",
    "\n",
    "print('Number of images: ', len(transformed_dataset))\n",
    "\n",
    "# iterate through the transformed dataset and print some stats about the first few samples\n",
    "for i in range(4):\n",
    "    sample = transformed_dataset[i]\n",
    "    print(i, sample['image'].size(), sample['keypoints'].size())"
   ]
  },
  {
   "cell_type": "markdown",
   "metadata": {},
   "source": [
    "## Batching and loading data\n",
    "\n",
    "Next, having defined the transformed dataset, we can use PyTorch's DataLoader class to load the training data in batches of whatever size as well as to shuffle the data for training the model. You can read more about the parameters of the DataLoader, in [this documentation](http://pytorch.org/docs/master/data.html).\n",
    "\n",
    "#### Batch size\n",
    "Decide on a good batch size for training your model. Try both small and large batch sizes and note how the loss decreases as the model trains. Too large a batch size may cause your model to crash and/or run out of memory while training.\n",
    "\n",
    "**Note for Windows users**: Please change the `num_workers` to 0 or you may face some issues with your DataLoader failing."
   ]
  },
  {
   "cell_type": "code",
   "execution_count": 6,
   "metadata": {},
   "outputs": [],
   "source": [
    "# load training data in batches\n",
    "batch_size = 10\n",
    "\n",
    "train_loader = DataLoader(transformed_dataset, \n",
    "                          batch_size=batch_size,\n",
    "                          shuffle=True, \n",
    "                          num_workers=4)\n"
   ]
  },
  {
   "cell_type": "markdown",
   "metadata": {},
   "source": [
    "## Before training\n",
    "\n",
    "Take a look at how this model performs before it trains. You should see that the keypoints it predicts start off in one spot and don't match the keypoints on a face at all! It's interesting to visualize this behavior so that you can compare it to the model after training and see how the model has improved.\n",
    "\n",
    "#### Load in the test dataset\n",
    "\n",
    "The test dataset is one that this model has *not* seen before, meaning it has not trained with these images. We'll load in this test data and before and after training, see how your model performs on this set!\n",
    "\n",
    "To visualize this test data, we have to go through some un-transformation steps to turn our images into python images from tensors and to turn our keypoints back into a recognizable range. "
   ]
  },
  {
   "cell_type": "code",
   "execution_count": 7,
   "metadata": {},
   "outputs": [],
   "source": [
    "# load in the test data, using the dataset class\n",
    "# AND apply the data_transform you defined above\n",
    "\n",
    "# create the test dataset\n",
    "test_dataset = FacialKeypointsDataset(csv_file='/data/test_frames_keypoints.csv',\n",
    "                                             root_dir='/data/test/',\n",
    "                                             transform=data_transform)\n",
    "\n"
   ]
  },
  {
   "cell_type": "code",
   "execution_count": 8,
   "metadata": {},
   "outputs": [],
   "source": [
    "# load test data in batches\n",
    "batch_size = 10\n",
    "\n",
    "test_loader = DataLoader(test_dataset, \n",
    "                          batch_size=batch_size,\n",
    "                          shuffle=True, \n",
    "                          num_workers=4)"
   ]
  },
  {
   "cell_type": "markdown",
   "metadata": {},
   "source": [
    "## Apply the model on a test sample\n",
    "\n",
    "To test the model on a test sample of data, you have to follow these steps:\n",
    "1. Extract the image and ground truth keypoints from a sample\n",
    "2. Wrap the image in a Variable, so that the net can process it as input and track how it changes as the image moves through the network.\n",
    "3. Make sure the image is a FloatTensor, which the model expects.\n",
    "4. Forward pass the image through the net to get the predicted, output keypoints.\n",
    "\n",
    "This function test how the network performs on the first batch of test data. It returns the images, the transformed images, the predicted keypoints (produced by the model), and the ground truth keypoints."
   ]
  },
  {
   "cell_type": "code",
   "execution_count": 9,
   "metadata": {},
   "outputs": [],
   "source": [
    "# test the model on a batch of test images\n",
    "\n",
    "def net_sample_output():\n",
    "    net.eval()\n",
    "    # iterate through the test dataset\n",
    "    for i, sample in enumerate(test_loader):\n",
    "        \n",
    "        # get sample data: images and ground truth keypoints\n",
    "        images = sample['image']\n",
    "        key_pts = sample['keypoints']\n",
    "\n",
    "        images = Variable(images, volatile=True)\n",
    "        # convert images to FloatTensors\n",
    "        images = images.type(torch.FloatTensor)\n",
    "\n",
    "        # forward pass to get net output\n",
    "        output_pts = net.forward(images)\n",
    "        \n",
    "        # reshape to batch_size x 68 x 2 pts\n",
    "        output_pts = output_pts.view(output_pts.size()[0], 68, -1)\n",
    "        \n",
    "        # break after first image is tested\n",
    "        if i == 0:\n",
    "            return images, output_pts, key_pts\n",
    "            "
   ]
  },
  {
   "cell_type": "markdown",
   "metadata": {},
   "source": [
    "#### Debugging tips\n",
    "\n",
    "If you get a size or dimension error here, make sure that your network outputs the expected number of keypoints! Or if you get a Tensor type error, look into changing the above code that casts the data into float types: `images = images.type(torch.FloatTensor)`."
   ]
  },
  {
   "cell_type": "code",
   "execution_count": 10,
   "metadata": {},
   "outputs": [
    {
     "name": "stderr",
     "output_type": "stream",
     "text": [
      "/opt/conda/lib/python3.6/site-packages/ipykernel_launcher.py:12: UserWarning: volatile was removed and now has no effect. Use `with torch.no_grad():` instead.\n",
      "  if sys.path[0] == '':\n"
     ]
    },
    {
     "name": "stdout",
     "output_type": "stream",
     "text": [
      "torch.Size([10, 1, 224, 224])\n",
      "torch.Size([10, 68, 2])\n",
      "torch.Size([10, 68, 2])\n"
     ]
    }
   ],
   "source": [
    "# call the above function\n",
    "# returns: test images, test predicted keypoints, test ground truth keypoints\n",
    "test_images, test_outputs, gt_pts = net_sample_output()\n",
    "\n",
    "# print out the dimensions of the data to see if they make sense\n",
    "print(test_images.data.size())\n",
    "print(test_outputs.data.size())\n",
    "print(gt_pts.size())"
   ]
  },
  {
   "cell_type": "markdown",
   "metadata": {},
   "source": [
    "## Visualize the predicted keypoints\n",
    "\n",
    "Once we've had the model produce some predicted output keypoints, we can visualize these points in a way that's similar to how we've displayed this data before, only this time, we have to \"un-transform\" the image/keypoint data to display it.\n",
    "\n",
    "Note that I've defined a *new* function, `show_all_keypoints` that displays a grayscale image, its predicted keypoints and its ground truth keypoints (if provided)."
   ]
  },
  {
   "cell_type": "code",
   "execution_count": 11,
   "metadata": {},
   "outputs": [],
   "source": [
    "def show_all_keypoints(image, predicted_key_pts, gt_pts=None):\n",
    "    \"\"\"Show image with predicted keypoints\"\"\"\n",
    "    # image is grayscale\n",
    "    plt.imshow(image, cmap='gray')\n",
    "    plt.scatter(predicted_key_pts[:, 0], predicted_key_pts[:, 1], s=20, marker='.', c='m')\n",
    "    # plot ground truth points as green pts\n",
    "    if gt_pts is not None:\n",
    "        plt.scatter(gt_pts[:, 0], gt_pts[:, 1], s=20, marker='.', c='g')\n"
   ]
  },
  {
   "cell_type": "markdown",
   "metadata": {},
   "source": [
    "#### Un-transformation\n",
    "\n",
    "Next, you'll see a helper function. `visualize_output` that takes in a batch of images, predicted keypoints, and ground truth keypoints and displays a set of those images and their true/predicted keypoints.\n",
    "\n",
    "This function's main role is to take batches of image and keypoint data (the input and output of your CNN), and transform them into numpy images and un-normalized keypoints (x, y) for normal display. The un-transformation process turns keypoints and images into numpy arrays from Tensors *and* it undoes the keypoint normalization done in the Normalize() transform; it's assumed that you applied these transformations when you loaded your test data."
   ]
  },
  {
   "cell_type": "code",
   "execution_count": 12,
   "metadata": {},
   "outputs": [
    {
     "data": {
      "image/png": "[encoded data removed]",
      "text/plain": [
       "<matplotlib.figure.Figure at 0x7f069b97cc18>"
      ]
     },
     "metadata": {
      "needs_background": "light"
     },
     "output_type": "display_data"
    },
    {
     "data": {
      "image/png": "[encoded data removed]",
      "text/plain": [
       "<matplotlib.figure.Figure at 0x7f069b95fba8>"
      ]
     },
     "metadata": {
      "needs_background": "light"
     },
     "output_type": "display_data"
    },
    {
     "data": {
      "image/png": "[encoded data removed]",
      "text/plain": [
       "<matplotlib.figure.Figure at 0x7f069b8b3fd0>"
      ]
     },
     "metadata": {
      "needs_background": "light"
     },
     "output_type": "display_data"
    },
    {
     "data": {
      "image/png": "[encoded data removed]",
      "text/plain": [
       "<matplotlib.figure.Figure at 0x7f069b878400>"
      ]
     },
     "metadata": {
      "needs_background": "light"
     },
     "output_type": "display_data"
    },
    {
     "data": {
      "image/png": "[encoded data removed]",
      "text/plain": [
       "<matplotlib.figure.Figure at 0x7f069b83d828>"
      ]
     },
     "metadata": {
      "needs_background": "light"
     },
     "output_type": "display_data"
    },
    {
     "data": {
      "image/png": "[encoded data removed]",
      "text/plain": [
       "<matplotlib.figure.Figure at 0x7f069b7ff5c0>"
      ]
     },
     "metadata": {
      "needs_background": "light"
     },
     "output_type": "display_data"
    },
    {
     "data": {
      "image/png": "[encoded data removed]",
      "text/plain": [
       "<matplotlib.figure.Figure at 0x7f069b7c1710>"
      ]
     },
     "metadata": {
      "needs_background": "light"
     },
     "output_type": "display_data"
    },
    {
     "data": {
      "image/png": "[encoded data removed]",
      "text/plain": [
       "<matplotlib.figure.Figure at 0x7f069b77c630>"
      ]
     },
     "metadata": {
      "needs_background": "light"
     },
     "output_type": "display_data"
    },
    {
     "data": {
      "image/png": "[encoded data removed]",
      "text/plain": [
       "<matplotlib.figure.Figure at 0x7f069b73fb00>"
      ]
     },
     "metadata": {
      "needs_background": "light"
     },
     "output_type": "display_data"
    },
    {
     "data": {
      "image/png": "[encoded data removed]",
      "text/plain": [
       "<matplotlib.figure.Figure at 0x7f069b70c0b8>"
      ]
     },
     "metadata": {
      "needs_background": "light"
     },
     "output_type": "display_data"
    }
   ],
   "source": [
    "# visualize the output\n",
    "# by default this shows a batch of 10 images\n",
    "def visualize_output(test_images, test_outputs, gt_pts=None, batch_size=10):\n",
    "\n",
    "    for i in range(batch_size):\n",
    "        plt.figure(figsize=(20,10))\n",
    "        ax = plt.subplot(1, batch_size, i+1)\n",
    "\n",
    "        # un-transform the image data\n",
    "        image = test_images[i].data   # get the image from it's Variable wrapper\n",
    "        image = image.numpy()   # convert to numpy array from a Tensor\n",
    "        image = np.transpose(image, (1, 2, 0))   # transpose to go from torch to numpy image\n",
    "\n",
    "        # un-transform the predicted key_pts data\n",
    "        predicted_key_pts = test_outputs[i].data\n",
    "        predicted_key_pts = predicted_key_pts.numpy()\n",
    "        # undo normalization of keypoints  \n",
    "        predicted_key_pts = predicted_key_pts*50.0+100\n",
    "        \n",
    "        # plot ground truth points for comparison, if they exist\n",
    "        ground_truth_pts = None\n",
    "        if gt_pts is not None:\n",
    "            ground_truth_pts = gt_pts[i]         \n",
    "            ground_truth_pts = ground_truth_pts*50.0+100\n",
    "        \n",
    "        # call show_all_keypoints\n",
    "        show_all_keypoints(np.squeeze(image), predicted_key_pts, ground_truth_pts)\n",
    "            \n",
    "        plt.axis('off')\n",
    "\n",
    "    plt.show()\n",
    "    \n",
    "# call it\n",
    "visualize_output(test_images, test_outputs, gt_pts)"
   ]
  },
  {
   "cell_type": "markdown",
   "metadata": {},
   "source": [
    "## Training\n",
    "\n",
    "#### Loss function\n",
    "Training a network to predict keypoints is different than training a network to predict a class; instead of outputting a distribution of classes and using cross entropy loss, you may want to choose a loss function that is suited for regression, which directly compares a predicted value and target value. Read about the various kinds of loss functions (like MSE or L1/SmoothL1 loss) in [this documentation](http://pytorch.org/docs/master/_modules/torch/nn/modules/loss.html).\n",
    "\n",
    "### TODO: Define the loss and optimization\n",
    "\n",
    "Next, you'll define how the model will train by deciding on the loss function and optimizer.\n",
    "\n",
    "---"
   ]
  },
  {
   "cell_type": "code",
   "execution_count": 16,
   "metadata": {},
   "outputs": [],
   "source": [
    "## TODO: Define the loss and optimization\n",
    "import torch.optim as optim\n",
    "\n",
    "criterion = nn.SmoothL1Loss()\n",
    "\n",
    "optimizer = optim.Adam(params = net.parameters(), lr = 0.0005, betas=(0.9, 0.999), eps=1e-08)\n",
    "#optimizer = optim.SGD(params = net.parameters(), lr = 0.001, momentum = 0.9)"
   ]
  },
  {
   "cell_type": "markdown",
   "metadata": {},
   "source": [
    "## Training and Initial Observation\n",
    "\n",
    "Now, you'll train on your batched training data from `train_loader` for a number of epochs. \n",
    "\n",
    "To quickly observe how your model is training and decide on whether or not you should modify it's structure or hyperparameters, you're encouraged to start off with just one or two epochs at first. As you train, note how your the model's loss behaves over time: does it decrease quickly at first and then slow down? Does it take a while to decrease in the first place? What happens if you change the batch size of your training data or modify your loss function? etc. \n",
    "\n",
    "Use these initial observations to make changes to your model and decide on the best architecture before you train for many epochs and create a final model."
   ]
  },
  {
   "cell_type": "code",
   "execution_count": 13,
   "metadata": {},
   "outputs": [],
   "source": [
    "def train_net(n_epochs):\n",
    "\n",
    "    # prepare the net for training\n",
    "    net.train()\n",
    "\n",
    "    for epoch in range(n_epochs):  # loop over the dataset multiple times\n",
    "        \n",
    "        running_loss = 0.0\n",
    "\n",
    "        # train on batches of data, assumes you already have train_loader\n",
    "        for batch_i, data in enumerate(train_loader):\n",
    "            # get the input images and their corresponding labels\n",
    "            images = data['image']\n",
    "            key_pts = data['keypoints']\n",
    "\n",
    "            # flatten pts\n",
    "            key_pts = key_pts.view(key_pts.size(0), -1)\n",
    "\n",
    "            # convert variables to floats for regression loss\n",
    "            key_pts = key_pts.type(torch.FloatTensor)\n",
    "            images = images.type(torch.FloatTensor)\n",
    "\n",
    "            # forward pass to get outputs\n",
    "            output_pts = net(images)\n",
    "\n",
    "            # calculate the loss between predicted and target keypoints\n",
    "            loss = criterion(output_pts, key_pts)\n",
    "\n",
    "            # zero the parameter (weight) gradients\n",
    "            optimizer.zero_grad()\n",
    "            \n",
    "            # backward pass to calculate the weight gradients\n",
    "            loss.backward()\n",
    "\n",
    "            # update the weights\n",
    "            optimizer.step()\n",
    "\n",
    "            # print loss statistics\n",
    "            running_loss += loss.item()\n",
    "            if batch_i % 10 == 9:    # print every 10 batches\n",
    "                print('Epoch: {}, Batch: {}, Avg. Loss: {}'.format(epoch + 1, batch_i+1, running_loss/10))\n",
    "                running_loss = 0.0\n",
    "\n",
    "    print('Finished Training')\n"
   ]
  },
  {
   "cell_type": "code",
   "execution_count": 64,
   "metadata": {},
   "outputs": [
    {
     "name": "stdout",
     "output_type": "stream",
     "text": [
      "Epoch: 1, Batch: 10, Avg. Loss: 9245821.44765625\n",
      "Epoch: 1, Batch: 20, Avg. Loss: 43155.254311527315\n",
      "Epoch: 1, Batch: 30, Avg. Loss: 10427.822892455757\n",
      "Epoch: 1, Batch: 40, Avg. Loss: 3631.1632811263203\n",
      "Epoch: 1, Batch: 50, Avg. Loss: 12291.524864386021\n",
      "Epoch: 1, Batch: 60, Avg. Loss: 2137.8475731298327\n",
      "Epoch: 1, Batch: 70, Avg. Loss: 3528.5724008500574\n",
      "Epoch: 1, Batch: 80, Avg. Loss: 0.23096369206905365\n",
      "Epoch: 1, Batch: 90, Avg. Loss: 4178.385710339248\n",
      "Epoch: 1, Batch: 100, Avg. Loss: 0.23563360422849655\n",
      "Epoch: 1, Batch: 110, Avg. Loss: 0.21268331557512282\n",
      "Epoch: 1, Batch: 120, Avg. Loss: 0.2240483671426773\n",
      "Epoch: 1, Batch: 130, Avg. Loss: 0.18816757053136826\n",
      "Epoch: 1, Batch: 140, Avg. Loss: 0.2128676176071167\n",
      "Epoch: 1, Batch: 150, Avg. Loss: 1121.5519399419427\n",
      "Epoch: 1, Batch: 160, Avg. Loss: 0.22565288692712784\n",
      "Epoch: 1, Batch: 170, Avg. Loss: 2887.47830016464\n",
      "Epoch: 1, Batch: 180, Avg. Loss: 0.20012384355068208\n",
      "Epoch: 1, Batch: 190, Avg. Loss: 0.1601873144507408\n",
      "Epoch: 1, Batch: 200, Avg. Loss: 0.20030585825443267\n",
      "Epoch: 1, Batch: 210, Avg. Loss: 0.18014640659093856\n",
      "Epoch: 1, Batch: 220, Avg. Loss: 0.21238017529249192\n",
      "Epoch: 1, Batch: 230, Avg. Loss: 0.14038938134908677\n",
      "Epoch: 1, Batch: 240, Avg. Loss: 0.17293175980448722\n",
      "Epoch: 1, Batch: 250, Avg. Loss: 117.18319119513035\n",
      "Epoch: 1, Batch: 260, Avg. Loss: 0.1667049638926983\n",
      "Epoch: 1, Batch: 270, Avg. Loss: 0.17493050843477248\n",
      "Epoch: 1, Batch: 280, Avg. Loss: 1166.1430323220789\n",
      "Epoch: 1, Batch: 290, Avg. Loss: 0.17236744314432145\n",
      "Epoch: 1, Batch: 300, Avg. Loss: 472.88630236461756\n",
      "Epoch: 1, Batch: 310, Avg. Loss: 0.16149404719471933\n",
      "Epoch: 1, Batch: 320, Avg. Loss: 0.13295272141695022\n",
      "Epoch: 1, Batch: 330, Avg. Loss: 0.15024617612361907\n",
      "Epoch: 1, Batch: 340, Avg. Loss: 0.15718211308121682\n",
      "Epoch: 2, Batch: 10, Avg. Loss: 0.14039088562130927\n",
      "Epoch: 2, Batch: 20, Avg. Loss: 0.14036885425448417\n",
      "Epoch: 2, Batch: 30, Avg. Loss: 0.16226114481687545\n",
      "Epoch: 2, Batch: 40, Avg. Loss: 0.17641940712928772\n",
      "Epoch: 2, Batch: 50, Avg. Loss: 0.1512294016778469\n",
      "Epoch: 2, Batch: 60, Avg. Loss: 0.12775984928011894\n",
      "Epoch: 2, Batch: 70, Avg. Loss: 0.1340641900897026\n",
      "Epoch: 2, Batch: 80, Avg. Loss: 488.0679417006671\n",
      "Epoch: 2, Batch: 90, Avg. Loss: 0.14649010002613067\n",
      "Epoch: 2, Batch: 100, Avg. Loss: 0.1273357942700386\n",
      "Epoch: 2, Batch: 110, Avg. Loss: 0.10899675711989402\n",
      "Epoch: 2, Batch: 120, Avg. Loss: 0.11625097617506981\n",
      "Epoch: 2, Batch: 130, Avg. Loss: 0.13493712097406388\n",
      "Epoch: 2, Batch: 140, Avg. Loss: 0.12449923232197761\n",
      "Epoch: 2, Batch: 150, Avg. Loss: 0.09988076984882355\n",
      "Epoch: 2, Batch: 160, Avg. Loss: 0.14901102781295777\n",
      "Epoch: 2, Batch: 170, Avg. Loss: 0.13731717094779014\n",
      "Epoch: 2, Batch: 180, Avg. Loss: 0.12543548867106438\n",
      "Epoch: 2, Batch: 190, Avg. Loss: 2009.396520911157\n",
      "Epoch: 2, Batch: 200, Avg. Loss: 0.13723575919866562\n",
      "Epoch: 2, Batch: 210, Avg. Loss: 0.10932223498821259\n",
      "Epoch: 2, Batch: 220, Avg. Loss: 0.11844127103686333\n",
      "Epoch: 2, Batch: 230, Avg. Loss: 0.11481406837701798\n",
      "Epoch: 2, Batch: 240, Avg. Loss: 0.12933748662471772\n",
      "Epoch: 2, Batch: 250, Avg. Loss: 0.13662692308425903\n",
      "Epoch: 2, Batch: 260, Avg. Loss: 0.12288586050271988\n",
      "Epoch: 2, Batch: 270, Avg. Loss: 0.10778064504265786\n",
      "Epoch: 2, Batch: 280, Avg. Loss: 0.13591411709785461\n",
      "Epoch: 2, Batch: 290, Avg. Loss: 0.11156878620386124\n",
      "Epoch: 2, Batch: 300, Avg. Loss: 0.11840654984116554\n",
      "Epoch: 2, Batch: 310, Avg. Loss: 0.09922199323773384\n",
      "Epoch: 2, Batch: 320, Avg. Loss: 0.11051550805568695\n",
      "Epoch: 2, Batch: 330, Avg. Loss: 0.11751089170575142\n",
      "Epoch: 2, Batch: 340, Avg. Loss: 0.12164575979113579\n",
      "Epoch: 3, Batch: 10, Avg. Loss: 0.12008283212780953\n",
      "Epoch: 3, Batch: 20, Avg. Loss: 0.10669420212507248\n",
      "Epoch: 3, Batch: 30, Avg. Loss: 0.11803198233246803\n",
      "Epoch: 3, Batch: 40, Avg. Loss: 0.12806480079889299\n",
      "Epoch: 3, Batch: 50, Avg. Loss: 0.15742691680788995\n",
      "Epoch: 3, Batch: 60, Avg. Loss: 0.10152178928256035\n",
      "Epoch: 3, Batch: 70, Avg. Loss: 0.09884491711854934\n",
      "Epoch: 3, Batch: 80, Avg. Loss: 0.11134387478232384\n",
      "Epoch: 3, Batch: 90, Avg. Loss: 702.4586948864162\n",
      "Epoch: 3, Batch: 100, Avg. Loss: 0.09671617373824119\n",
      "Epoch: 3, Batch: 110, Avg. Loss: 0.09863382205367088\n",
      "Epoch: 3, Batch: 120, Avg. Loss: 0.10298487991094589\n",
      "Epoch: 3, Batch: 130, Avg. Loss: 0.10679616332054138\n",
      "Epoch: 3, Batch: 140, Avg. Loss: 0.09792034327983856\n",
      "Epoch: 3, Batch: 150, Avg. Loss: 0.09980701506137848\n",
      "Epoch: 3, Batch: 160, Avg. Loss: 0.1472800061106682\n",
      "Epoch: 3, Batch: 170, Avg. Loss: 0.1006123699247837\n",
      "Epoch: 3, Batch: 180, Avg. Loss: 0.10177735909819603\n",
      "Epoch: 3, Batch: 190, Avg. Loss: 0.11495027802884579\n",
      "Epoch: 3, Batch: 200, Avg. Loss: 0.10123996809124947\n",
      "Epoch: 3, Batch: 210, Avg. Loss: 0.10908703692257404\n",
      "Epoch: 3, Batch: 220, Avg. Loss: 0.1124385293573141\n",
      "Epoch: 3, Batch: 230, Avg. Loss: 0.10579822510480881\n",
      "Epoch: 3, Batch: 240, Avg. Loss: 0.09660753905773163\n",
      "Epoch: 3, Batch: 250, Avg. Loss: 0.1057332143187523\n",
      "Epoch: 3, Batch: 260, Avg. Loss: 0.11527737751603126\n",
      "Epoch: 3, Batch: 270, Avg. Loss: 0.10556807294487953\n",
      "Epoch: 3, Batch: 280, Avg. Loss: 0.09289138838648796\n",
      "Epoch: 3, Batch: 290, Avg. Loss: 0.10415197014808655\n",
      "Epoch: 3, Batch: 300, Avg. Loss: 0.09958290383219719\n",
      "Epoch: 3, Batch: 310, Avg. Loss: 0.10268315076828002\n",
      "Epoch: 3, Batch: 320, Avg. Loss: 0.0928392257541418\n",
      "Epoch: 3, Batch: 330, Avg. Loss: 0.11047040522098542\n",
      "Epoch: 3, Batch: 340, Avg. Loss: 0.1127967469394207\n",
      "Epoch: 4, Batch: 10, Avg. Loss: 0.11191944405436516\n",
      "Epoch: 4, Batch: 20, Avg. Loss: 0.09733194969594479\n",
      "Epoch: 4, Batch: 30, Avg. Loss: 0.1446162059903145\n",
      "Epoch: 4, Batch: 40, Avg. Loss: 0.10835091397166252\n",
      "Epoch: 4, Batch: 50, Avg. Loss: 0.101674247905612\n",
      "Epoch: 4, Batch: 60, Avg. Loss: 0.08462950140237809\n",
      "Epoch: 4, Batch: 70, Avg. Loss: 0.098736322671175\n",
      "Epoch: 4, Batch: 80, Avg. Loss: 0.10059065073728561\n",
      "Epoch: 4, Batch: 90, Avg. Loss: 0.10407064110040665\n",
      "Epoch: 4, Batch: 100, Avg. Loss: 0.09789636693894863\n",
      "Epoch: 4, Batch: 110, Avg. Loss: 0.09786598086357116\n",
      "Epoch: 4, Batch: 120, Avg. Loss: 0.09776590690016747\n",
      "Epoch: 4, Batch: 130, Avg. Loss: 0.08674464672803879\n",
      "Epoch: 4, Batch: 140, Avg. Loss: 0.0873196568340063\n",
      "Epoch: 4, Batch: 150, Avg. Loss: 0.10697741508483886\n",
      "Epoch: 4, Batch: 160, Avg. Loss: 0.10566252321004868\n",
      "Epoch: 4, Batch: 170, Avg. Loss: 0.09800998270511627\n",
      "Epoch: 4, Batch: 180, Avg. Loss: 0.08927378505468368\n",
      "Epoch: 4, Batch: 190, Avg. Loss: 0.08123154491186142\n",
      "Epoch: 4, Batch: 200, Avg. Loss: 0.1001230776309967\n",
      "Epoch: 4, Batch: 210, Avg. Loss: 0.09849788621068001\n",
      "Epoch: 4, Batch: 220, Avg. Loss: 0.11692951172590256\n",
      "Epoch: 4, Batch: 230, Avg. Loss: 0.10327970124781131\n",
      "Epoch: 4, Batch: 240, Avg. Loss: 0.09664195626974106\n",
      "Epoch: 4, Batch: 250, Avg. Loss: 0.11192621737718582\n",
      "Epoch: 4, Batch: 260, Avg. Loss: 0.09305588230490684\n",
      "Epoch: 4, Batch: 270, Avg. Loss: 0.11000826358795165\n",
      "Epoch: 4, Batch: 280, Avg. Loss: 0.08430490754544735\n",
      "Epoch: 4, Batch: 290, Avg. Loss: 0.10128733143210411\n",
      "Epoch: 4, Batch: 300, Avg. Loss: 0.09341825880110263\n",
      "Epoch: 4, Batch: 310, Avg. Loss: 0.07361153289675712\n",
      "Epoch: 4, Batch: 320, Avg. Loss: 0.08596290461719036\n",
      "Epoch: 4, Batch: 330, Avg. Loss: 0.09823300391435623\n",
      "Epoch: 4, Batch: 340, Avg. Loss: 0.09782308004796506\n",
      "Epoch: 5, Batch: 10, Avg. Loss: 0.11174048855900764\n",
      "Epoch: 5, Batch: 20, Avg. Loss: 0.10192752368748188\n",
      "Epoch: 5, Batch: 30, Avg. Loss: 0.10834911167621612\n",
      "Epoch: 5, Batch: 40, Avg. Loss: 0.10337386429309844\n",
      "Epoch: 5, Batch: 50, Avg. Loss: 0.09817400723695754\n",
      "Epoch: 5, Batch: 60, Avg. Loss: 0.09674659483134747\n",
      "Epoch: 5, Batch: 70, Avg. Loss: 0.10109882801771164\n",
      "Epoch: 5, Batch: 80, Avg. Loss: 0.09981526508927345\n",
      "Epoch: 5, Batch: 90, Avg. Loss: 0.09534914530813694\n",
      "Epoch: 5, Batch: 100, Avg. Loss: 0.08096654750406743\n",
      "Epoch: 5, Batch: 110, Avg. Loss: 0.09867718406021594\n",
      "Epoch: 5, Batch: 120, Avg. Loss: 0.09487120807170868\n",
      "Epoch: 5, Batch: 130, Avg. Loss: 0.0864136841148138\n",
      "Epoch: 5, Batch: 140, Avg. Loss: 0.09944443330168724\n",
      "Epoch: 5, Batch: 150, Avg. Loss: 0.08128523267805576\n",
      "Epoch: 5, Batch: 160, Avg. Loss: 0.09027711972594261\n",
      "Epoch: 5, Batch: 170, Avg. Loss: 0.08266919255256652\n",
      "Epoch: 5, Batch: 180, Avg. Loss: 0.09468327164649963\n",
      "Epoch: 5, Batch: 190, Avg. Loss: 0.08599885888397693\n",
      "Epoch: 5, Batch: 200, Avg. Loss: 0.12757809460163116\n",
      "Epoch: 5, Batch: 210, Avg. Loss: 0.1031956773251295\n"
     ]
    },
    {
     "name": "stdout",
     "output_type": "stream",
     "text": [
      "Epoch: 5, Batch: 220, Avg. Loss: 0.10483650267124175\n",
      "Epoch: 5, Batch: 230, Avg. Loss: 0.0873056747019291\n",
      "Epoch: 5, Batch: 240, Avg. Loss: 0.08689704611897468\n",
      "Epoch: 5, Batch: 250, Avg. Loss: 0.09581276774406433\n",
      "Epoch: 5, Batch: 260, Avg. Loss: 0.09708120524883271\n",
      "Epoch: 5, Batch: 270, Avg. Loss: 0.08617831245064736\n",
      "Epoch: 5, Batch: 280, Avg. Loss: 0.08974739983677864\n",
      "Epoch: 5, Batch: 290, Avg. Loss: 0.10891487449407578\n",
      "Epoch: 5, Batch: 300, Avg. Loss: 0.08636789545416831\n",
      "Epoch: 5, Batch: 310, Avg. Loss: 0.08633340485394\n",
      "Epoch: 5, Batch: 320, Avg. Loss: 0.08109069764614105\n",
      "Epoch: 5, Batch: 330, Avg. Loss: 0.09426802359521388\n",
      "Epoch: 5, Batch: 340, Avg. Loss: 0.09726939648389817\n",
      "Finished Training\n"
     ]
    }
   ],
   "source": [
    "# train your network\n",
    "n_epochs = 5 # start small, and increase when you've decided on your model structure and hyperparams\n",
    "\n",
    "# this is a Workspaces-specific context manager to keep the connection\n",
    "# alive while training your model, not part of pytorch\n",
    "with active_session():\n",
    "    train_net(n_epochs)"
   ]
  },
  {
   "cell_type": "code",
   "execution_count": 17,
   "metadata": {
    "scrolled": false
   },
   "outputs": [
    {
     "name": "stdout",
     "output_type": "stream",
     "text": [
      "Epoch: 1, Batch: 10, Avg. Loss: 0.24902642965316774\n",
      "Epoch: 1, Batch: 20, Avg. Loss: 2925.510815826058\n",
      "Epoch: 1, Batch: 30, Avg. Loss: 0.15711028948426248\n",
      "Epoch: 1, Batch: 40, Avg. Loss: 0.13822967559099197\n",
      "Epoch: 1, Batch: 50, Avg. Loss: 0.10818120166659355\n",
      "Epoch: 1, Batch: 60, Avg. Loss: 0.10225074887275695\n",
      "Epoch: 1, Batch: 70, Avg. Loss: 0.08025092259049416\n",
      "Epoch: 1, Batch: 80, Avg. Loss: 0.12807133235037327\n",
      "Epoch: 1, Batch: 90, Avg. Loss: 0.09622827768325806\n",
      "Epoch: 1, Batch: 100, Avg. Loss: 0.09570672363042831\n",
      "Epoch: 1, Batch: 110, Avg. Loss: 10076.715664027632\n",
      "Epoch: 1, Batch: 120, Avg. Loss: 0.09298224225640297\n",
      "Epoch: 1, Batch: 130, Avg. Loss: 0.11581882685422898\n",
      "Epoch: 1, Batch: 140, Avg. Loss: 0.07442604526877403\n",
      "Epoch: 1, Batch: 150, Avg. Loss: 0.07540065683424473\n",
      "Epoch: 1, Batch: 160, Avg. Loss: 0.10269202291965485\n",
      "Epoch: 1, Batch: 170, Avg. Loss: 0.0928528793156147\n",
      "Epoch: 1, Batch: 180, Avg. Loss: 0.09025279879570007\n",
      "Epoch: 1, Batch: 190, Avg. Loss: 0.0822838231921196\n",
      "Epoch: 1, Batch: 200, Avg. Loss: 0.09995090924203395\n",
      "Epoch: 1, Batch: 210, Avg. Loss: 0.07676435671746731\n",
      "Epoch: 1, Batch: 220, Avg. Loss: 0.09897238574922085\n",
      "Epoch: 1, Batch: 230, Avg. Loss: 2770.213598418236\n",
      "Epoch: 1, Batch: 240, Avg. Loss: 0.09775239154696465\n",
      "Epoch: 1, Batch: 250, Avg. Loss: 0.09298555552959442\n",
      "Epoch: 1, Batch: 260, Avg. Loss: 0.07501990608870983\n",
      "Epoch: 1, Batch: 270, Avg. Loss: 0.07851430624723435\n",
      "Epoch: 1, Batch: 280, Avg. Loss: 0.07903924100100994\n",
      "Epoch: 1, Batch: 290, Avg. Loss: 0.08020844869315624\n",
      "Epoch: 1, Batch: 300, Avg. Loss: 15602.40547532253\n",
      "Epoch: 1, Batch: 310, Avg. Loss: 0.08949647396802902\n",
      "Epoch: 1, Batch: 320, Avg. Loss: 0.09652466252446175\n",
      "Epoch: 1, Batch: 330, Avg. Loss: 0.0806914821267128\n",
      "Epoch: 1, Batch: 340, Avg. Loss: 0.09620365053415299\n",
      "Epoch: 2, Batch: 10, Avg. Loss: 0.07650799565017223\n",
      "Epoch: 2, Batch: 20, Avg. Loss: 0.10047179460525513\n",
      "Epoch: 2, Batch: 30, Avg. Loss: 0.08494566269218921\n",
      "Epoch: 2, Batch: 40, Avg. Loss: 0.10737777389585972\n",
      "Epoch: 2, Batch: 50, Avg. Loss: 0.08302358388900757\n",
      "Epoch: 2, Batch: 60, Avg. Loss: 0.08621095269918441\n",
      "Epoch: 2, Batch: 70, Avg. Loss: 0.09392639920115471\n",
      "Epoch: 2, Batch: 80, Avg. Loss: 0.07676639407873154\n",
      "Epoch: 2, Batch: 90, Avg. Loss: 0.08109445683658123\n",
      "Epoch: 2, Batch: 100, Avg. Loss: 0.09133310876786709\n",
      "Epoch: 2, Batch: 110, Avg. Loss: 0.09642608910799026\n",
      "Epoch: 2, Batch: 120, Avg. Loss: 0.0887368492782116\n",
      "Epoch: 2, Batch: 130, Avg. Loss: 0.10629837289452553\n",
      "Epoch: 2, Batch: 140, Avg. Loss: 0.1062842145562172\n",
      "Epoch: 2, Batch: 150, Avg. Loss: 0.085129514336586\n",
      "Epoch: 2, Batch: 160, Avg. Loss: 1360.6280723873526\n",
      "Epoch: 2, Batch: 170, Avg. Loss: 480.3202191974968\n",
      "Epoch: 2, Batch: 180, Avg. Loss: 0.09278199449181557\n",
      "Epoch: 2, Batch: 190, Avg. Loss: 0.10010678209364414\n",
      "Epoch: 2, Batch: 200, Avg. Loss: 0.10021975114941598\n",
      "Epoch: 2, Batch: 210, Avg. Loss: 0.10115996748209\n",
      "Epoch: 2, Batch: 220, Avg. Loss: 0.09764986522495747\n",
      "Epoch: 2, Batch: 230, Avg. Loss: 0.10099229402840137\n",
      "Epoch: 2, Batch: 240, Avg. Loss: 0.08108984045684338\n",
      "Epoch: 2, Batch: 250, Avg. Loss: 0.08263343125581742\n",
      "Epoch: 2, Batch: 260, Avg. Loss: 0.102763731777668\n",
      "Epoch: 2, Batch: 270, Avg. Loss: 0.08604335151612759\n",
      "Epoch: 2, Batch: 280, Avg. Loss: 0.07447837106883526\n",
      "Epoch: 2, Batch: 290, Avg. Loss: 0.08849643878638744\n",
      "Epoch: 2, Batch: 300, Avg. Loss: 0.10076880566775799\n",
      "Epoch: 2, Batch: 310, Avg. Loss: 0.08991671912372112\n",
      "Epoch: 2, Batch: 320, Avg. Loss: 3830.582984983176\n",
      "Epoch: 2, Batch: 330, Avg. Loss: 0.09672309309244156\n",
      "Epoch: 2, Batch: 340, Avg. Loss: 0.08634553998708724\n",
      "Epoch: 3, Batch: 10, Avg. Loss: 0.10314766392111778\n",
      "Epoch: 3, Batch: 20, Avg. Loss: 0.10042881295084953\n",
      "Epoch: 3, Batch: 30, Avg. Loss: 0.0887734580785036\n",
      "Epoch: 3, Batch: 40, Avg. Loss: 0.10752572864294052\n",
      "Epoch: 3, Batch: 50, Avg. Loss: 0.08580360077321529\n",
      "Epoch: 3, Batch: 60, Avg. Loss: 0.08330058306455612\n",
      "Epoch: 3, Batch: 70, Avg. Loss: 0.08779107443988324\n",
      "Epoch: 3, Batch: 80, Avg. Loss: 0.09536388888955116\n",
      "Epoch: 3, Batch: 90, Avg. Loss: 0.09609663821756839\n",
      "Epoch: 3, Batch: 100, Avg. Loss: 0.1059441976249218\n",
      "Epoch: 3, Batch: 110, Avg. Loss: 0.09976203329861164\n",
      "Epoch: 3, Batch: 120, Avg. Loss: 0.11122326031327248\n",
      "Epoch: 3, Batch: 130, Avg. Loss: 0.09411745145916939\n",
      "Epoch: 3, Batch: 140, Avg. Loss: 0.07862651757895947\n",
      "Epoch: 3, Batch: 150, Avg. Loss: 0.09122053235769272\n",
      "Epoch: 3, Batch: 160, Avg. Loss: 0.09622888267040253\n",
      "Epoch: 3, Batch: 170, Avg. Loss: 0.08650781288743019\n",
      "Epoch: 3, Batch: 180, Avg. Loss: 0.09059845320880414\n",
      "Epoch: 3, Batch: 190, Avg. Loss: 0.0946174569427967\n",
      "Epoch: 3, Batch: 200, Avg. Loss: 0.09113160520792007\n",
      "Epoch: 3, Batch: 210, Avg. Loss: 0.08164831027388572\n",
      "Epoch: 3, Batch: 220, Avg. Loss: 0.09019013158977032\n",
      "Epoch: 3, Batch: 230, Avg. Loss: 0.08419696986675262\n",
      "Epoch: 3, Batch: 240, Avg. Loss: 0.08057852908968925\n",
      "Epoch: 3, Batch: 250, Avg. Loss: 0.08746337778866291\n",
      "Epoch: 3, Batch: 260, Avg. Loss: 0.09503474198281765\n",
      "Epoch: 3, Batch: 270, Avg. Loss: 0.07321263253688812\n",
      "Epoch: 3, Batch: 280, Avg. Loss: 0.07718971557915211\n",
      "Epoch: 3, Batch: 290, Avg. Loss: 0.095204646140337\n",
      "Epoch: 3, Batch: 300, Avg. Loss: 0.09510905742645263\n",
      "Epoch: 3, Batch: 310, Avg. Loss: 0.09093226119875908\n",
      "Epoch: 3, Batch: 320, Avg. Loss: 0.08202823884785175\n",
      "Epoch: 3, Batch: 330, Avg. Loss: 0.09798581786453724\n",
      "Epoch: 3, Batch: 340, Avg. Loss: 0.08728542588651181\n",
      "Epoch: 4, Batch: 10, Avg. Loss: 0.10261676050722598\n",
      "Epoch: 4, Batch: 20, Avg. Loss: 0.08143268786370754\n",
      "Epoch: 4, Batch: 30, Avg. Loss: 0.08908870369195938\n",
      "Epoch: 4, Batch: 40, Avg. Loss: 0.09561380892992019\n",
      "Epoch: 4, Batch: 50, Avg. Loss: 0.08343527615070342\n",
      "Epoch: 4, Batch: 60, Avg. Loss: 0.09887142889201642\n",
      "Epoch: 4, Batch: 70, Avg. Loss: 0.11408287100493908\n",
      "Epoch: 4, Batch: 80, Avg. Loss: 0.10936777479946613\n",
      "Epoch: 4, Batch: 90, Avg. Loss: 0.08818549253046512\n",
      "Epoch: 4, Batch: 100, Avg. Loss: 0.08466812074184418\n",
      "Epoch: 4, Batch: 110, Avg. Loss: 0.12007668390870094\n",
      "Epoch: 4, Batch: 120, Avg. Loss: 0.08438734337687492\n",
      "Epoch: 4, Batch: 130, Avg. Loss: 0.08123264536261558\n",
      "Epoch: 4, Batch: 140, Avg. Loss: 0.07809645682573318\n",
      "Epoch: 4, Batch: 150, Avg. Loss: 0.08983582220971584\n",
      "Epoch: 4, Batch: 160, Avg. Loss: 0.0829184427857399\n",
      "Epoch: 4, Batch: 170, Avg. Loss: 0.09180093146860599\n",
      "Epoch: 4, Batch: 180, Avg. Loss: 0.07669050432741642\n",
      "Epoch: 4, Batch: 190, Avg. Loss: 0.09955570958554745\n",
      "Epoch: 4, Batch: 200, Avg. Loss: 0.07586313523352146\n",
      "Epoch: 4, Batch: 210, Avg. Loss: 0.0874299880117178\n",
      "Epoch: 4, Batch: 220, Avg. Loss: 0.08201798982918262\n",
      "Epoch: 4, Batch: 230, Avg. Loss: 0.08553653806447983\n",
      "Epoch: 4, Batch: 240, Avg. Loss: 0.08033124804496765\n",
      "Epoch: 4, Batch: 250, Avg. Loss: 0.08936882838606834\n",
      "Epoch: 4, Batch: 260, Avg. Loss: 0.09887517914175988\n",
      "Epoch: 4, Batch: 270, Avg. Loss: 0.08440404236316681\n",
      "Epoch: 4, Batch: 280, Avg. Loss: 0.06725302301347255\n",
      "Epoch: 4, Batch: 290, Avg. Loss: 0.09471738003194333\n",
      "Epoch: 4, Batch: 300, Avg. Loss: 0.09494447410106659\n",
      "Epoch: 4, Batch: 310, Avg. Loss: 0.09793303944170476\n",
      "Epoch: 4, Batch: 320, Avg. Loss: 0.09939045831561089\n",
      "Epoch: 4, Batch: 330, Avg. Loss: 0.08065850287675858\n",
      "Epoch: 4, Batch: 340, Avg. Loss: 0.08733212128281594\n",
      "Epoch: 5, Batch: 10, Avg. Loss: 0.08466037847101689\n",
      "Epoch: 5, Batch: 20, Avg. Loss: 0.09852951690554619\n",
      "Epoch: 5, Batch: 30, Avg. Loss: 0.10523098930716515\n",
      "Epoch: 5, Batch: 40, Avg. Loss: 0.09697694033384323\n",
      "Epoch: 5, Batch: 50, Avg. Loss: 0.08654385395348071\n",
      "Epoch: 5, Batch: 60, Avg. Loss: 0.08260827027261257\n",
      "Epoch: 5, Batch: 70, Avg. Loss: 0.08686345219612121\n",
      "Epoch: 5, Batch: 80, Avg. Loss: 0.11098093502223491\n",
      "Epoch: 5, Batch: 90, Avg. Loss: 0.08872208632528782\n",
      "Epoch: 5, Batch: 100, Avg. Loss: 0.08511722236871719\n",
      "Epoch: 5, Batch: 110, Avg. Loss: 0.10120821297168732\n",
      "Epoch: 5, Batch: 120, Avg. Loss: 0.09900003895163537\n",
      "Epoch: 5, Batch: 130, Avg. Loss: 0.08837952986359596\n",
      "Epoch: 5, Batch: 140, Avg. Loss: 0.07666209749877453\n",
      "Epoch: 5, Batch: 150, Avg. Loss: 0.08830303810536862\n",
      "Epoch: 5, Batch: 160, Avg. Loss: 0.10999676696956158\n",
      "Epoch: 5, Batch: 170, Avg. Loss: 0.09892737045884133\n",
      "Epoch: 5, Batch: 180, Avg. Loss: 0.09061299078166485\n",
      "Epoch: 5, Batch: 190, Avg. Loss: 0.08439260050654411\n",
      "Epoch: 5, Batch: 200, Avg. Loss: 0.07504733130335808\n",
      "Epoch: 5, Batch: 210, Avg. Loss: 0.08842379599809647\n"
     ]
    },
    {
     "name": "stdout",
     "output_type": "stream",
     "text": [
      "Epoch: 5, Batch: 220, Avg. Loss: 0.0902176272124052\n",
      "Epoch: 5, Batch: 230, Avg. Loss: 0.08683842904865742\n",
      "Epoch: 5, Batch: 240, Avg. Loss: 0.08001789897680282\n",
      "Epoch: 5, Batch: 250, Avg. Loss: 0.10919123589992523\n",
      "Epoch: 5, Batch: 260, Avg. Loss: 0.10198752656579017\n",
      "Epoch: 5, Batch: 270, Avg. Loss: 0.08855738490819931\n",
      "Epoch: 5, Batch: 280, Avg. Loss: 0.09225221686065196\n",
      "Epoch: 5, Batch: 290, Avg. Loss: 0.0882782869040966\n",
      "Epoch: 5, Batch: 300, Avg. Loss: 0.07065325528383255\n",
      "Epoch: 5, Batch: 310, Avg. Loss: 0.09359590038657188\n",
      "Epoch: 5, Batch: 320, Avg. Loss: 0.09013498574495316\n",
      "Epoch: 5, Batch: 330, Avg. Loss: 0.0968936711549759\n",
      "Epoch: 5, Batch: 340, Avg. Loss: 0.10112751498818398\n",
      "Epoch: 6, Batch: 10, Avg. Loss: 0.09492751434445382\n",
      "Epoch: 6, Batch: 20, Avg. Loss: 0.094295085221529\n",
      "Epoch: 6, Batch: 30, Avg. Loss: 0.1020799394696951\n",
      "Epoch: 6, Batch: 40, Avg. Loss: 0.0888321440666914\n",
      "Epoch: 6, Batch: 50, Avg. Loss: 0.10000486001372337\n",
      "Epoch: 6, Batch: 60, Avg. Loss: 0.09607148468494416\n",
      "Epoch: 6, Batch: 70, Avg. Loss: 0.12189863249659538\n",
      "Epoch: 6, Batch: 80, Avg. Loss: 0.10460549630224705\n",
      "Epoch: 6, Batch: 90, Avg. Loss: 0.09866954982280732\n",
      "Epoch: 6, Batch: 100, Avg. Loss: 0.08971215710043907\n",
      "Epoch: 6, Batch: 110, Avg. Loss: 0.09743804223835469\n",
      "Epoch: 6, Batch: 120, Avg. Loss: 0.08357051461935043\n",
      "Epoch: 6, Batch: 130, Avg. Loss: 0.09562153667211533\n",
      "Epoch: 6, Batch: 140, Avg. Loss: 0.09002756029367447\n",
      "Epoch: 6, Batch: 150, Avg. Loss: 0.09663833156228066\n",
      "Epoch: 6, Batch: 160, Avg. Loss: 0.09730014428496361\n",
      "Epoch: 6, Batch: 170, Avg. Loss: 0.08726428896188736\n",
      "Epoch: 6, Batch: 180, Avg. Loss: 0.11088927760720253\n",
      "Epoch: 6, Batch: 190, Avg. Loss: 0.09370239675045014\n",
      "Epoch: 6, Batch: 200, Avg. Loss: 0.07610761225223542\n",
      "Epoch: 6, Batch: 210, Avg. Loss: 0.06848930902779102\n",
      "Epoch: 6, Batch: 220, Avg. Loss: 0.08297405689954758\n",
      "Epoch: 6, Batch: 230, Avg. Loss: 0.09228725358843803\n",
      "Epoch: 6, Batch: 240, Avg. Loss: 0.07567120604217052\n",
      "Epoch: 6, Batch: 250, Avg. Loss: 0.08276950605213643\n",
      "Epoch: 6, Batch: 260, Avg. Loss: 0.09127489849925041\n",
      "Epoch: 6, Batch: 270, Avg. Loss: 0.08149550333619118\n",
      "Epoch: 6, Batch: 280, Avg. Loss: 0.07450310736894608\n",
      "Epoch: 6, Batch: 290, Avg. Loss: 0.08812787495553494\n",
      "Epoch: 6, Batch: 300, Avg. Loss: 0.09439904354512692\n",
      "Epoch: 6, Batch: 310, Avg. Loss: 0.10379053503274918\n",
      "Epoch: 6, Batch: 320, Avg. Loss: 0.08406305760145187\n",
      "Epoch: 6, Batch: 330, Avg. Loss: 0.09685805514454841\n",
      "Epoch: 6, Batch: 340, Avg. Loss: 0.09163440130650997\n",
      "Epoch: 7, Batch: 10, Avg. Loss: 0.07469013035297394\n",
      "Epoch: 7, Batch: 20, Avg. Loss: 0.10472493916749955\n",
      "Epoch: 7, Batch: 30, Avg. Loss: 0.08644222542643547\n",
      "Epoch: 7, Batch: 40, Avg. Loss: 0.07228077910840511\n",
      "Epoch: 7, Batch: 50, Avg. Loss: 0.08648942038416862\n",
      "Epoch: 7, Batch: 60, Avg. Loss: 0.06842836700379848\n",
      "Epoch: 7, Batch: 70, Avg. Loss: 0.12894393280148506\n",
      "Epoch: 7, Batch: 80, Avg. Loss: 0.0872526939958334\n",
      "Epoch: 7, Batch: 90, Avg. Loss: 0.08353205025196075\n",
      "Epoch: 7, Batch: 100, Avg. Loss: 0.09208754450082779\n",
      "Epoch: 7, Batch: 110, Avg. Loss: 0.08666211254894733\n",
      "Epoch: 7, Batch: 120, Avg. Loss: 0.1005602426826954\n",
      "Epoch: 7, Batch: 130, Avg. Loss: 0.09351293593645096\n",
      "Epoch: 7, Batch: 140, Avg. Loss: 0.0870806597173214\n",
      "Epoch: 7, Batch: 150, Avg. Loss: 0.07912075817584992\n",
      "Epoch: 7, Batch: 160, Avg. Loss: 0.07728888504207135\n",
      "Epoch: 7, Batch: 170, Avg. Loss: 0.1054051224142313\n",
      "Epoch: 7, Batch: 180, Avg. Loss: 0.08359785638749599\n",
      "Epoch: 7, Batch: 190, Avg. Loss: 0.13236562050879003\n",
      "Epoch: 7, Batch: 200, Avg. Loss: 0.0901838954538107\n",
      "Epoch: 7, Batch: 210, Avg. Loss: 0.09393656700849533\n",
      "Epoch: 7, Batch: 220, Avg. Loss: 0.10587431862950325\n",
      "Epoch: 7, Batch: 230, Avg. Loss: 0.1035110391676426\n",
      "Epoch: 7, Batch: 240, Avg. Loss: 0.076699049025774\n",
      "Epoch: 7, Batch: 250, Avg. Loss: 0.09292721748352051\n",
      "Epoch: 7, Batch: 260, Avg. Loss: 0.10067004114389419\n",
      "Epoch: 7, Batch: 270, Avg. Loss: 0.0898404709994793\n",
      "Epoch: 7, Batch: 280, Avg. Loss: 0.08504889979958534\n",
      "Epoch: 7, Batch: 290, Avg. Loss: 0.08638253435492516\n",
      "Epoch: 7, Batch: 300, Avg. Loss: 0.08263923749327659\n",
      "Epoch: 7, Batch: 310, Avg. Loss: 0.1096290335059166\n",
      "Epoch: 7, Batch: 320, Avg. Loss: 0.07852515392005444\n",
      "Epoch: 7, Batch: 330, Avg. Loss: 0.08554320149123669\n",
      "Epoch: 7, Batch: 340, Avg. Loss: 0.08856869265437126\n",
      "Epoch: 8, Batch: 10, Avg. Loss: 0.07309457957744599\n",
      "Epoch: 8, Batch: 20, Avg. Loss: 0.12147518619894981\n",
      "Epoch: 8, Batch: 30, Avg. Loss: 0.08799341544508935\n",
      "Epoch: 8, Batch: 40, Avg. Loss: 0.08723468370735646\n",
      "Epoch: 8, Batch: 50, Avg. Loss: 0.09632311500608921\n",
      "Epoch: 8, Batch: 60, Avg. Loss: 0.07606173977255822\n",
      "Epoch: 8, Batch: 70, Avg. Loss: 0.09371686950325966\n",
      "Epoch: 8, Batch: 80, Avg. Loss: 0.10865311473608016\n",
      "Epoch: 8, Batch: 90, Avg. Loss: 0.08780057020485402\n",
      "Epoch: 8, Batch: 100, Avg. Loss: 0.09652536027133465\n",
      "Epoch: 8, Batch: 110, Avg. Loss: 0.08983826078474522\n",
      "Epoch: 8, Batch: 120, Avg. Loss: 0.11191308349370957\n",
      "Epoch: 8, Batch: 130, Avg. Loss: 0.09760347194969654\n",
      "Epoch: 8, Batch: 140, Avg. Loss: 0.07880876809358597\n",
      "Epoch: 8, Batch: 150, Avg. Loss: 0.08154469393193722\n",
      "Epoch: 8, Batch: 160, Avg. Loss: 0.0780654150992632\n",
      "Epoch: 8, Batch: 170, Avg. Loss: 0.09254924580454826\n",
      "Epoch: 8, Batch: 180, Avg. Loss: 0.07536469511687756\n",
      "Epoch: 8, Batch: 190, Avg. Loss: 0.0817087572067976\n",
      "Epoch: 8, Batch: 200, Avg. Loss: 0.07020465731620788\n",
      "Epoch: 8, Batch: 210, Avg. Loss: 0.08021308816969394\n",
      "Epoch: 8, Batch: 220, Avg. Loss: 0.10231709070503711\n",
      "Epoch: 8, Batch: 230, Avg. Loss: 0.09414471536874772\n",
      "Epoch: 8, Batch: 240, Avg. Loss: 0.09163824617862701\n",
      "Epoch: 8, Batch: 250, Avg. Loss: 0.09553545787930488\n",
      "Epoch: 8, Batch: 260, Avg. Loss: 0.09315116815268994\n",
      "Epoch: 8, Batch: 270, Avg. Loss: 0.08775926306843758\n",
      "Epoch: 8, Batch: 280, Avg. Loss: 4.495321497321129\n",
      "Epoch: 8, Batch: 290, Avg. Loss: 0.10051687695086002\n",
      "Epoch: 8, Batch: 300, Avg. Loss: 0.0923002939671278\n",
      "Epoch: 8, Batch: 310, Avg. Loss: 0.1042605273425579\n",
      "Epoch: 8, Batch: 320, Avg. Loss: 0.08793580159544945\n",
      "Epoch: 8, Batch: 330, Avg. Loss: 0.08245519064366817\n",
      "Epoch: 8, Batch: 340, Avg. Loss: 0.09499463811516762\n",
      "Epoch: 9, Batch: 10, Avg. Loss: 0.08411852270364761\n",
      "Epoch: 9, Batch: 20, Avg. Loss: 0.09948614872992038\n",
      "Epoch: 9, Batch: 30, Avg. Loss: 0.09951395466923714\n",
      "Epoch: 9, Batch: 40, Avg. Loss: 0.0823504462838173\n",
      "Epoch: 9, Batch: 50, Avg. Loss: 0.07495900541543961\n",
      "Epoch: 9, Batch: 60, Avg. Loss: 0.12687819972634315\n",
      "Epoch: 9, Batch: 70, Avg. Loss: 0.09520717151463032\n",
      "Epoch: 9, Batch: 80, Avg. Loss: 0.08184988424181938\n",
      "Epoch: 9, Batch: 90, Avg. Loss: 0.12076148800551892\n",
      "Epoch: 9, Batch: 100, Avg. Loss: 0.10309735909104348\n",
      "Epoch: 9, Batch: 110, Avg. Loss: 0.0851116944104433\n",
      "Epoch: 9, Batch: 120, Avg. Loss: 0.08476902022957802\n",
      "Epoch: 9, Batch: 130, Avg. Loss: 0.0900886245071888\n",
      "Epoch: 9, Batch: 140, Avg. Loss: 0.0837193164974451\n",
      "Epoch: 9, Batch: 150, Avg. Loss: 0.08740493170917034\n",
      "Epoch: 9, Batch: 160, Avg. Loss: 0.10793648660182953\n",
      "Epoch: 9, Batch: 170, Avg. Loss: 0.08883650228381157\n",
      "Epoch: 9, Batch: 180, Avg. Loss: 0.07491099312901497\n",
      "Epoch: 9, Batch: 190, Avg. Loss: 0.08205922432243824\n",
      "Epoch: 9, Batch: 200, Avg. Loss: 0.06869202479720116\n",
      "Epoch: 9, Batch: 210, Avg. Loss: 0.08798463232815265\n",
      "Epoch: 9, Batch: 220, Avg. Loss: 0.09350585713982582\n",
      "Epoch: 9, Batch: 230, Avg. Loss: 0.08720553256571292\n",
      "Epoch: 9, Batch: 240, Avg. Loss: 0.06866539940237999\n",
      "Epoch: 9, Batch: 250, Avg. Loss: 0.09413699954748153\n",
      "Epoch: 9, Batch: 260, Avg. Loss: 0.11241312846541404\n",
      "Epoch: 9, Batch: 270, Avg. Loss: 0.09612384960055351\n",
      "Epoch: 9, Batch: 280, Avg. Loss: 0.08691221326589585\n",
      "Epoch: 9, Batch: 290, Avg. Loss: 0.10106858871877193\n",
      "Epoch: 9, Batch: 300, Avg. Loss: 0.08282787166535854\n",
      "Epoch: 9, Batch: 310, Avg. Loss: 0.08868916183710099\n",
      "Epoch: 9, Batch: 320, Avg. Loss: 0.0810683749616146\n",
      "Epoch: 9, Batch: 330, Avg. Loss: 0.09083592556416989\n",
      "Epoch: 9, Batch: 340, Avg. Loss: 0.09908625856041908\n",
      "Epoch: 10, Batch: 10, Avg. Loss: 0.08558522798120975\n",
      "Epoch: 10, Batch: 20, Avg. Loss: 0.08906930349767209\n",
      "Epoch: 10, Batch: 30, Avg. Loss: 0.08807668052613735\n",
      "Epoch: 10, Batch: 40, Avg. Loss: 0.07964475303888321\n",
      "Epoch: 10, Batch: 50, Avg. Loss: 0.08806825131177902\n",
      "Epoch: 10, Batch: 60, Avg. Loss: 0.10447644628584385\n",
      "Epoch: 10, Batch: 70, Avg. Loss: 0.088534739241004\n"
     ]
    },
    {
     "name": "stdout",
     "output_type": "stream",
     "text": [
      "Epoch: 10, Batch: 80, Avg. Loss: 0.08772448860108853\n",
      "Epoch: 10, Batch: 90, Avg. Loss: 0.10800226554274558\n",
      "Epoch: 10, Batch: 100, Avg. Loss: 0.08717774860560894\n",
      "Epoch: 10, Batch: 110, Avg. Loss: 0.09171917475759983\n",
      "Epoch: 10, Batch: 120, Avg. Loss: 0.11104385033249856\n",
      "Epoch: 10, Batch: 130, Avg. Loss: 0.08971961438655854\n",
      "Epoch: 10, Batch: 140, Avg. Loss: 0.0934723123908043\n",
      "Epoch: 10, Batch: 150, Avg. Loss: 0.08732977882027626\n",
      "Epoch: 10, Batch: 160, Avg. Loss: 0.10070281624794006\n",
      "Epoch: 10, Batch: 170, Avg. Loss: 0.08929544240236283\n",
      "Epoch: 10, Batch: 180, Avg. Loss: 0.08962160646915436\n",
      "Epoch: 10, Batch: 190, Avg. Loss: 0.08467587232589721\n",
      "Epoch: 10, Batch: 200, Avg. Loss: 0.0716810392215848\n",
      "Epoch: 10, Batch: 210, Avg. Loss: 0.07429555803537369\n",
      "Epoch: 10, Batch: 220, Avg. Loss: 0.09876938238739967\n",
      "Epoch: 10, Batch: 230, Avg. Loss: 0.06952139511704444\n",
      "Epoch: 10, Batch: 240, Avg. Loss: 0.09137726575136185\n",
      "Epoch: 10, Batch: 250, Avg. Loss: 0.09219794161617756\n",
      "Epoch: 10, Batch: 260, Avg. Loss: 0.09954336173832416\n",
      "Epoch: 10, Batch: 270, Avg. Loss: 0.07540240660309791\n",
      "Epoch: 10, Batch: 280, Avg. Loss: 0.08611352704465389\n",
      "Epoch: 10, Batch: 290, Avg. Loss: 0.09508368447422981\n",
      "Epoch: 10, Batch: 300, Avg. Loss: 0.0846986573189497\n",
      "Epoch: 10, Batch: 310, Avg. Loss: 0.11257554069161416\n",
      "Epoch: 10, Batch: 320, Avg. Loss: 0.07957233227789402\n",
      "Epoch: 10, Batch: 330, Avg. Loss: 0.08576340973377228\n",
      "Epoch: 10, Batch: 340, Avg. Loss: 0.11434219107031822\n",
      "Finished Training\n"
     ]
    }
   ],
   "source": [
    "import torch.optim as optim\n",
    "#change number of epochs\n",
    "optimizer = optim.Adam(params = net.parameters(), lr = 0.001)\n",
    "#train\n",
    "n_epochs = 10\n",
    "\n",
    "with active_session():\n",
    "    train_net(n_epochs)"
   ]
  },
  {
   "cell_type": "markdown",
   "metadata": {},
   "source": [
    "## Test data\n",
    "\n",
    "See how your model performs on previously unseen, test data. We've already loaded and transformed this data, similar to the training data. Next, run your trained model on these images to see what kind of keypoints are produced. You should be able to see if your model is fitting each new face it sees, if the points are distributed randomly, or if the points have actually overfitted the training data and do not generalize."
   ]
  },
  {
   "cell_type": "code",
   "execution_count": 18,
   "metadata": {},
   "outputs": [
    {
     "name": "stderr",
     "output_type": "stream",
     "text": [
      "/opt/conda/lib/python3.6/site-packages/ipykernel_launcher.py:12: UserWarning: volatile was removed and now has no effect. Use `with torch.no_grad():` instead.\n",
      "  if sys.path[0] == '':\n"
     ]
    },
    {
     "name": "stdout",
     "output_type": "stream",
     "text": [
      "torch.Size([10, 1, 224, 224])\n",
      "torch.Size([10, 68, 2])\n",
      "torch.Size([10, 68, 2])\n"
     ]
    }
   ],
   "source": [
    "# get a sample of test data again\n",
    "test_images, test_outputs, gt_pts = net_sample_output()\n",
    "\n",
    "print(test_images.data.size())\n",
    "print(test_outputs.data.size())\n",
    "print(gt_pts.size())"
   ]
  },
  {
   "cell_type": "code",
   "execution_count": 19,
   "metadata": {},
   "outputs": [
    {
     "data": {
      "image/png": "[encoded data removed]",
      "text/plain": [
       "<matplotlib.figure.Figure at 0x7f069b97c550>"
      ]
     },
     "metadata": {
      "needs_background": "light"
     },
     "output_type": "display_data"
    },
    {
     "data": {
      "image/png": "[encoded data removed]",
      "text/plain": [
       "<matplotlib.figure.Figure at 0x7f0684889908>"
      ]
     },
     "metadata": {
      "needs_background": "light"
     },
     "output_type": "display_data"
    },
    {
     "data": {
      "image/png": "[encoded data removed]",
      "text/plain": [
       "<matplotlib.figure.Figure at 0x7f069b1dd6d8>"
      ]
     },
     "metadata": {
      "needs_background": "light"
     },
     "output_type": "display_data"
    },
    {
     "data": {
      "image/png": "[encoded data removed]",
      "text/plain": [
       "<matplotlib.figure.Figure at 0x7f069b190c88>"
      ]
     },
     "metadata": {
      "needs_background": "light"
     },
     "output_type": "display_data"
    },
    {
     "data": {
      "image/png": "[encoded data removed]",
      "text/plain": [
       "<matplotlib.figure.Figure at 0x7f069b14f9b0>"
      ]
     },
     "metadata": {
      "needs_background": "light"
     },
     "output_type": "display_data"
    },
    {
     "data": {
      "image/png": "[encoded data removed]",
      "text/plain": [
       "<matplotlib.figure.Figure at 0x7f069b111828>"
      ]
     },
     "metadata": {
      "needs_background": "light"
     },
     "output_type": "display_data"
    },
    {
     "data": {
      "image/png": "[encoded data removed]",
      "text/plain": [
       "<matplotlib.figure.Figure at 0x7f069b0d35f8>"
      ]
     },
     "metadata": {
      "needs_background": "light"
     },
     "output_type": "display_data"
    },
    {
     "data": {
      "image/png": "[encoded data removed]",
      "text/plain": [
       "<matplotlib.figure.Figure at 0x7f069b0913c8>"
      ]
     },
     "metadata": {
      "needs_background": "light"
     },
     "output_type": "display_data"
    },
    {
     "data": {
      "image/png": "[encoded data removed]",
      "text/plain": [
       "<matplotlib.figure.Figure at 0x7f069b053198>"
      ]
     },
     "metadata": {
      "needs_background": "light"
     },
     "output_type": "display_data"
    },
    {
     "data": {
      "image/png": "[encoded data removed]",
      "text/plain": [
       "<matplotlib.figure.Figure at 0x7f069b009f28>"
      ]
     },
     "metadata": {
      "needs_background": "light"
     },
     "output_type": "display_data"
    }
   ],
   "source": [
    "## TODO: visualize your test output\n",
    "# you can use the same function as before, by un-commenting the line below:\n",
    "\n",
    "visualize_output(test_images, test_outputs, gt_pts=None)\n"
   ]
  },
  {
   "cell_type": "markdown",
   "metadata": {},
   "source": [
    "Once you've found a good model (or two), save your model so you can load it and use it later!\n",
    "\n",
    "Save your models but please **delete any checkpoints and saved models before you submit your project** otherwise your workspace may be too large to submit."
   ]
  },
  {
   "cell_type": "code",
   "execution_count": 20,
   "metadata": {},
   "outputs": [],
   "source": [
    "## TODO: change the name to something uniqe for each new model\n",
    "model_dir = 'saved_models/'\n",
    "model_name = 'keypoints_model_2.pt'\n",
    "\n",
    "# after training, save your model parameters in the dir 'saved_models'\n",
    "torch.save(net.state_dict(), model_dir+model_name)"
   ]
  },
  {
   "cell_type": "markdown",
   "metadata": {},
   "source": [
    "After you've trained a well-performing model, answer the following questions so that we have some insight into your training and architecture selection process. Answering all questions is required to pass this project."
   ]
  },
  {
   "cell_type": "markdown",
   "metadata": {},
   "source": [
    "### Question 1: What optimization and loss functions did you choose and why?\n"
   ]
  },
  {
   "cell_type": "markdown",
   "metadata": {},
   "source": [
    "**Answer**: write your answer here (double click to edit this cell)\n",
    "I choose Adam(Adaptive Momemtum Estimation) Optimizer with learning rate = 0.001 as it has momentum built in which allows model to converge to global minimum instead of local minimum. Initially started with learning rate = 0.01 but loss fluctation was too big and loss didn't minimize. Beta parameters B1=0.9 and B2=0.999 as B1 helps in controlling weighted averages and B2 helps in tackling oscillations coming from Root mean square propagation.\n",
    "\n",
    "Initially i started with Mean squared error loss function but immediately found loss was too high in certain cases as Mean squared error penalizes for big errors. In order to overcome hign loss i choose SmoothL1Loss also known as Huber Loss which prevents exploding gradients in certain cases."
   ]
  },
  {
   "cell_type": "markdown",
   "metadata": {},
   "source": [
    "### Question 2: What kind of network architecture did you start with and how did it change as you tried different architectures? Did you decide to add more convolutional layers or any layers to avoid overfitting the data?"
   ]
  },
  {
   "cell_type": "markdown",
   "metadata": {},
   "source": [
    "**Answer**: write your answer here\n",
    "I choose the architecture from the paper Facial Key Points Detection using Deep Convolutional Neural Network, 2017 with making slight modifications to Linear layer in order to Fit our problem(136 values)."
   ]
  },
  {
   "cell_type": "markdown",
   "metadata": {},
   "source": [
    "### Question 3: How did you decide on the number of epochs and batch_size to train your model?"
   ]
  },
  {
   "cell_type": "markdown",
   "metadata": {},
   "source": [
    "**Answer**: write your answer here\n",
    "Initially started with low value for number of Epochs but as increasing number of epochs loss reduced upto certain extent before becoming obsolete. Initially started with Number of epochs = 5 the Number of epochs was set to 10.\n",
    "batch_size remained 10 as for each epoch 340 iterations made over data to update gradients."
   ]
  },
  {
   "cell_type": "markdown",
   "metadata": {},
   "source": [
    "## Feature Visualization\n",
    "\n",
    "Sometimes, neural networks are thought of as a black box, given some input, they learn to produce some output. CNN's are actually learning to recognize a variety of spatial patterns and you can visualize what each convolutional layer has been trained to recognize by looking at the weights that make up each convolutional kernel and applying those one at a time to a sample image. This technique is called feature visualization and it's useful for understanding the inner workings of a CNN."
   ]
  },
  {
   "cell_type": "markdown",
   "metadata": {},
   "source": [
    "In the cell below, you can see how to extract a single filter (by index) from your first convolutional layer. The filter should appear as a grayscale grid."
   ]
  },
  {
   "cell_type": "code",
   "execution_count": 21,
   "metadata": {},
   "outputs": [
    {
     "name": "stdout",
     "output_type": "stream",
     "text": [
      "[[ 0.51901186  0.40068156  0.25338522  0.05548297]\n",
      " [ 0.39848569  0.85266715  0.64927071  0.21117496]\n",
      " [ 0.92777276  0.41946253  0.63983852  0.63126385]\n",
      " [ 0.29664236  0.07319584  0.14170229  0.66484237]]\n",
      "(4, 4)\n"
     ]
    },
    {
     "data": {
      "text/plain": [
       "<matplotlib.image.AxesImage at 0x7f069b70cf60>"
      ]
     },
     "execution_count": 21,
     "metadata": {},
     "output_type": "execute_result"
    },
    {
     "data": {
      "image/png": "[encoded data removed]",
      "text/plain": [
       "<matplotlib.figure.Figure at 0x7f069b1ae080>"
      ]
     },
     "metadata": {
      "needs_background": "light"
     },
     "output_type": "display_data"
    }
   ],
   "source": [
    "# Get the weights in the first conv layer, \"conv1\"\n",
    "# if necessary, change this to reflect the name of your first conv layer\n",
    "weights1 = net.conv1.weight.data\n",
    "\n",
    "w = weights1.numpy()\n",
    "\n",
    "filter_index = 0\n",
    "\n",
    "print(w[filter_index][0])\n",
    "print(w[filter_index][0].shape)\n",
    "\n",
    "# display the filter weights\n",
    "plt.imshow(w[filter_index][0], cmap='gray')\n"
   ]
  },
  {
   "cell_type": "markdown",
   "metadata": {},
   "source": [
    "## Feature maps\n",
    "\n",
    "Each CNN has at least one convolutional layer that is composed of stacked filters (also known as convolutional kernels). As a CNN trains, it learns what weights to include in it's convolutional kernels and when these kernels are applied to some input image, they produce a set of **feature maps**. So, feature maps are just sets of filtered images; they are the images produced by applying a convolutional kernel to an input image. These maps show us the features that the different layers of the neural network learn to extract. For example, you might imagine a convolutional kernel that detects the vertical edges of a face or another one that detects the corners of eyes. You can see what kind of features each of these kernels detects by applying them to an image. One such example is shown below; from the way it brings out the lines in an the image, you might characterize this as an edge detection filter.\n",
    "\n",
    "<img src='images/feature_map_ex.png' width=50% height=50%/>\n",
    "\n",
    "\n",
    "Next, choose a test image and filter it with one of the convolutional kernels in your trained CNN; look at the filtered output to get an idea what that particular kernel detects.\n",
    "\n",
    "### TODO: Filter an image to see the effect of a convolutional kernel\n",
    "---"
   ]
  },
  {
   "cell_type": "code",
   "execution_count": 25,
   "metadata": {},
   "outputs": [
    {
     "data": {
      "image/png": "[encoded data removed]",
      "text/plain": [
       "<matplotlib.figure.Figure at 0x7f069b86e7f0>"
      ]
     },
     "metadata": {
      "needs_background": "light"
     },
     "output_type": "display_data"
    }
   ],
   "source": [
    "##TODO: load in and display any image from the transformed test dataset\n",
    "dataiter = iter(test_loader)\n",
    "sample = dataiter.next()\n",
    "images = sample['image']\n",
    "images = images.numpy()\n",
    "\n",
    "# select an image by index\n",
    "idx = 3\n",
    "img = np.squeeze(images[idx])\n",
    "\n",
    "## TODO: Using cv's filter2D function,\n",
    "## apply a specific set of filter weights (like the one displayed above) to the test image\n",
    "import cv2\n",
    "\n",
    "weights = net.conv2.weight.data\n",
    "w = weights.numpy()\n",
    "\n",
    "c = cv2.filter2D(img, -1, w[0][0])\n",
    "\n",
    "f, ax = plt.subplots(1,3)\n",
    "ax[0].imshow(w[0][0], cmap='gray')\n",
    "ax[1].imshow(img)\n",
    "ax[2].imshow(c, cmap='gray')\n",
    "plt.show()"
   ]
  },
  {
   "cell_type": "markdown",
   "metadata": {},
   "source": [
    "### Question 4: Choose one filter from your trained CNN and apply it to a test image; what purpose do you think it plays? What kind of feature do you think it detects?\n"
   ]
  },
  {
   "cell_type": "markdown",
   "metadata": {},
   "source": [
    "Looks like filter blurs out the noise."
   ]
  },
  {
   "cell_type": "markdown",
   "metadata": {},
   "source": [
    "---\n",
    "## Moving on!\n",
    "\n",
    "Now that you've defined and trained your model (and saved the best model), you are ready to move on to the last notebook, which combines a face detector with your saved model to create a facial keypoint detection system that can predict the keypoints on *any* face in an image!"
   ]
  }
 ],
 "metadata": {
  "kernelspec": {
   "display_name": "Python 3",
   "language": "python",
   "name": "python3"
  },
  "language_info": {
   "codemirror_mode": {
    "name": "ipython",
    "version": 3
   },
   "file_extension": ".py",
   "mimetype": "text/x-python",
   "name": "python",
   "nbconvert_exporter": "python",
   "pygments_lexer": "ipython3",
   "version": "3.6.3"
  }
 },
 "nbformat": 4,
 "nbformat_minor": 2
}
